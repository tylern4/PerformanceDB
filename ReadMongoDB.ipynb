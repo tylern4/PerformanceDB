{
 "cells": [
  {
   "cell_type": "code",
   "execution_count": 1,
   "id": "0010dcb6",
   "metadata": {},
   "outputs": [],
   "source": [
    "%matplotlib inline\n",
    "import matplotlib.pyplot as plt\n",
    "import pandas as pd\n",
    "import numpy as np\n",
    "from pymongo import MongoClient"
   ]
  },
  {
   "cell_type": "code",
   "execution_count": 2,
   "id": "d4b32eff",
   "metadata": {},
   "outputs": [
    {
     "data": {
      "text/html": [
       "<div>\n",
       "<style scoped>\n",
       "    .dataframe tbody tr th:only-of-type {\n",
       "        vertical-align: middle;\n",
       "    }\n",
       "\n",
       "    .dataframe tbody tr th {\n",
       "        vertical-align: top;\n",
       "    }\n",
       "\n",
       "    .dataframe thead th {\n",
       "        text-align: right;\n",
       "    }\n",
       "</style>\n",
       "<table border=\"1\" class=\"dataframe\">\n",
       "  <thead>\n",
       "    <tr style=\"text-align: right;\">\n",
       "      <th></th>\n",
       "      <th>_id</th>\n",
       "      <th>submit_time</th>\n",
       "      <th>compute_platform</th>\n",
       "      <th>requested_cpu</th>\n",
       "      <th>requested_mem</th>\n",
       "      <th>requested_disk</th>\n",
       "      <th>input_file_size</th>\n",
       "      <th>input_file_compression</th>\n",
       "      <th>input_file_time</th>\n",
       "      <th>pipeline</th>\n",
       "      <th>start_time</th>\n",
       "      <th>output_file_size</th>\n",
       "      <th>output_file_compression</th>\n",
       "      <th>output_file_time</th>\n",
       "      <th>end_time</th>\n",
       "      <th>event</th>\n",
       "    </tr>\n",
       "  </thead>\n",
       "  <tbody>\n",
       "    <tr>\n",
       "      <th>0</th>\n",
       "      <td>2662743237</td>\n",
       "      <td>07-13-2021 17:04:30.202611</td>\n",
       "      <td>jgi</td>\n",
       "      <td>25</td>\n",
       "      <td>5</td>\n",
       "      <td>4</td>\n",
       "      <td>3</td>\n",
       "      <td>True</td>\n",
       "      <td>7140.0</td>\n",
       "      <td>pipeline_1</td>\n",
       "      <td>07-13-2021 19:00:30.202611</td>\n",
       "      <td>60.0</td>\n",
       "      <td>False</td>\n",
       "      <td>7680.0</td>\n",
       "      <td>07-13-2021 21:06:30.202611</td>\n",
       "      <td>0</td>\n",
       "    </tr>\n",
       "    <tr>\n",
       "      <th>1</th>\n",
       "      <td>1918449648</td>\n",
       "      <td>07-13-2021 17:04:30.227427</td>\n",
       "      <td>pnnl</td>\n",
       "      <td>25</td>\n",
       "      <td>9</td>\n",
       "      <td>3</td>\n",
       "      <td>3</td>\n",
       "      <td>False</td>\n",
       "      <td>6780.0</td>\n",
       "      <td>pipeline_2</td>\n",
       "      <td>07-13-2021 19:04:30.227427</td>\n",
       "      <td>60.0</td>\n",
       "      <td>True</td>\n",
       "      <td>6480.0</td>\n",
       "      <td>07-13-2021 21:03:30.227427</td>\n",
       "      <td>1</td>\n",
       "    </tr>\n",
       "    <tr>\n",
       "      <th>2</th>\n",
       "      <td>4136153850</td>\n",
       "      <td>07-13-2021 17:04:30.229047</td>\n",
       "      <td>aws</td>\n",
       "      <td>22</td>\n",
       "      <td>8</td>\n",
       "      <td>4</td>\n",
       "      <td>0</td>\n",
       "      <td>False</td>\n",
       "      <td>7140.0</td>\n",
       "      <td>pipeline_4</td>\n",
       "      <td>07-13-2021 19:06:30.229047</td>\n",
       "      <td>0.0</td>\n",
       "      <td>False</td>\n",
       "      <td>7440.0</td>\n",
       "      <td>07-13-2021 21:08:30.229047</td>\n",
       "      <td>2</td>\n",
       "    </tr>\n",
       "    <tr>\n",
       "      <th>3</th>\n",
       "      <td>3704115299</td>\n",
       "      <td>07-13-2021 17:04:30.230325</td>\n",
       "      <td>cori</td>\n",
       "      <td>27</td>\n",
       "      <td>10</td>\n",
       "      <td>4</td>\n",
       "      <td>1</td>\n",
       "      <td>True</td>\n",
       "      <td>6900.0</td>\n",
       "      <td>pipeline_2</td>\n",
       "      <td>07-13-2021 19:07:30.230325</td>\n",
       "      <td>0.0</td>\n",
       "      <td>True</td>\n",
       "      <td>7920.0</td>\n",
       "      <td>07-13-2021 21:11:30.230325</td>\n",
       "      <td>3</td>\n",
       "    </tr>\n",
       "    <tr>\n",
       "      <th>4</th>\n",
       "      <td>3853719958</td>\n",
       "      <td>07-13-2021 17:04:30.231472</td>\n",
       "      <td>cori</td>\n",
       "      <td>18</td>\n",
       "      <td>8</td>\n",
       "      <td>4</td>\n",
       "      <td>4</td>\n",
       "      <td>True</td>\n",
       "      <td>7320.0</td>\n",
       "      <td>pipeline_4</td>\n",
       "      <td>07-13-2021 19:13:30.231472</td>\n",
       "      <td>180.0</td>\n",
       "      <td>False</td>\n",
       "      <td>7680.0</td>\n",
       "      <td>07-13-2021 21:10:30.231472</td>\n",
       "      <td>4</td>\n",
       "    </tr>\n",
       "  </tbody>\n",
       "</table>\n",
       "</div>"
      ],
      "text/plain": [
       "          _id                 submit_time compute_platform  requested_cpu  \\\n",
       "0  2662743237  07-13-2021 17:04:30.202611              jgi             25   \n",
       "1  1918449648  07-13-2021 17:04:30.227427             pnnl             25   \n",
       "2  4136153850  07-13-2021 17:04:30.229047              aws             22   \n",
       "3  3704115299  07-13-2021 17:04:30.230325             cori             27   \n",
       "4  3853719958  07-13-2021 17:04:30.231472             cori             18   \n",
       "\n",
       "   requested_mem  requested_disk  input_file_size  input_file_compression  \\\n",
       "0              5               4                3                    True   \n",
       "1              9               3                3                   False   \n",
       "2              8               4                0                   False   \n",
       "3             10               4                1                    True   \n",
       "4              8               4                4                    True   \n",
       "\n",
       "   input_file_time    pipeline                  start_time  output_file_size  \\\n",
       "0           7140.0  pipeline_1  07-13-2021 19:00:30.202611              60.0   \n",
       "1           6780.0  pipeline_2  07-13-2021 19:04:30.227427              60.0   \n",
       "2           7140.0  pipeline_4  07-13-2021 19:06:30.229047               0.0   \n",
       "3           6900.0  pipeline_2  07-13-2021 19:07:30.230325               0.0   \n",
       "4           7320.0  pipeline_4  07-13-2021 19:13:30.231472             180.0   \n",
       "\n",
       "   output_file_compression  output_file_time                    end_time  \\\n",
       "0                    False            7680.0  07-13-2021 21:06:30.202611   \n",
       "1                     True            6480.0  07-13-2021 21:03:30.227427   \n",
       "2                    False            7440.0  07-13-2021 21:08:30.229047   \n",
       "3                     True            7920.0  07-13-2021 21:11:30.230325   \n",
       "4                    False            7680.0  07-13-2021 21:10:30.231472   \n",
       "\n",
       "   event  \n",
       "0      0  \n",
       "1      1  \n",
       "2      2  \n",
       "3      3  \n",
       "4      4  "
      ]
     },
     "execution_count": 2,
     "metadata": {},
     "output_type": "execute_result"
    }
   ],
   "source": [
    "client = MongoClient('127.0.0.1',\n",
    "                     username=\"root\",\n",
    "                     password=\"rootpassword\")\n",
    "\n",
    "collection = client['performance'].get_collection(\"perf\")\n",
    "\n",
    "data = pd.DataFrame(list(collection.find()))\n",
    "data.head()"
   ]
  },
  {
   "cell_type": "code",
   "execution_count": null,
   "id": "131302d2",
   "metadata": {},
   "outputs": [],
   "source": [
    "data.info(verbose=True, memory_usage='deep')"
   ]
  },
  {
   "cell_type": "code",
   "execution_count": 3,
   "id": "8b77be34",
   "metadata": {},
   "outputs": [],
   "source": [
    "parse_dates = ['submit_time', 'start_time', 'end_time']\n",
    "for d in parse_dates:\n",
    "    data[d] = pd.to_datetime(data[d])\n",
    "\n",
    "convert_dtype = {'_id': \"string\",\n",
    "                 'compute_platform': \"string\",\n",
    "                 'requested_cpu': 'int8',\n",
    "                 'requested_mem': 'int8',\n",
    "                 'requested_disk': 'int8',\n",
    "                 'input_file_size': 'int32',\n",
    "                 'input_file_compression': 'bool',\n",
    "                 'input_file_time': 'float32',\n",
    "                 'pipeline': 'string',\n",
    "                 'output_file_size': 'int32',\n",
    "                 'output_file_compression': 'bool',\n",
    "                 'output_file_time': 'float32'}\n",
    "    \n",
    "for d, t in convert_dtype.items():\n",
    "    data[d] = data[d].astype(t)"
   ]
  },
  {
   "cell_type": "code",
   "execution_count": null,
   "id": "c8f4fc89",
   "metadata": {},
   "outputs": [],
   "source": [
    "dict(data.dtypes)"
   ]
  },
  {
   "cell_type": "code",
   "execution_count": null,
   "id": "a02f046e",
   "metadata": {},
   "outputs": [],
   "source": [
    "data.info(verbose=True, memory_usage='deep')"
   ]
  },
  {
   "cell_type": "code",
   "execution_count": null,
   "id": "aaf19f4e",
   "metadata": {},
   "outputs": [],
   "source": [
    "data.head()"
   ]
  },
  {
   "cell_type": "code",
   "execution_count": 4,
   "id": "2e6c82f2",
   "metadata": {},
   "outputs": [
    {
     "data": {
      "text/plain": [
       "<matplotlib.legend.Legend at 0x13bfad8b0>"
      ]
     },
     "execution_count": 4,
     "metadata": {},
     "output_type": "execute_result"
    },
    {
     "data": {
      "image/png": "[encoded data removed]",
      "text/plain": [
       "<Figure size 432x288 with 1 Axes>"
      ]
     },
     "metadata": {
      "needs_background": "light"
     },
     "output_type": "display_data"
    }
   ],
   "source": [
    "platform = data.compute_platform.unique()\n",
    "plt.hist([data.loc[data.compute_platform == x, 'requested_cpu'] for x in platform], label=platform)\n",
    "plt.legend()"
   ]
  },
  {
   "cell_type": "code",
   "execution_count": 5,
   "id": "e9faaf9c",
   "metadata": {},
   "outputs": [],
   "source": [
    "data['full_runtime'] = data.end_time - data.submit_time\n",
    "data['full_runtime'] = data['full_runtime'].apply(lambda x: x.value)"
   ]
  },
  {
   "cell_type": "code",
   "execution_count": 6,
   "id": "85d24fb1",
   "metadata": {},
   "outputs": [
    {
     "data": {
      "image/png": "[encoded data removed]",
      "text/plain": [
       "<Figure size 432x288 with 1 Axes>"
      ]
     },
     "metadata": {
      "needs_background": "light"
     },
     "output_type": "display_data"
    }
   ],
   "source": [
    "plt.hist(data.full_runtime, bins=30)\n",
    "plt.show()"
   ]
  },
  {
   "cell_type": "code",
   "execution_count": null,
   "id": "08b635bc",
   "metadata": {},
   "outputs": [],
   "source": [
    "platform = data.compute_platform.unique()\n",
    "plt.hist([data.loc[data.compute_platform == x, 'full_runtime'] for x in platform], label=platform, bins=20)\n",
    "plt.legend()"
   ]
  },
  {
   "cell_type": "code",
   "execution_count": null,
   "id": "8dd4f9d2",
   "metadata": {},
   "outputs": [],
   "source": []
  }
 ],
 "metadata": {
  "kernelspec": {
   "display_name": "Python 3",
   "language": "python",
   "name": "python3"
  },
  "language_info": {
   "codemirror_mode": {
    "name": "ipython",
    "version": 3
   },
   "file_extension": ".py",
   "mimetype": "text/x-python",
   "name": "python",
   "nbconvert_exporter": "python",
   "pygments_lexer": "ipython3",
   "version": "3.9.6"
  }
 },
 "nbformat": 4,
 "nbformat_minor": 5
}
