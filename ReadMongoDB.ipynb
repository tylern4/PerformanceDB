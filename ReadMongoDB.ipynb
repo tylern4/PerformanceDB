{
 "cells": [
  {
   "cell_type": "code",
   "execution_count": null,
   "id": "0010dcb6",
   "metadata": {},
   "outputs": [],
   "source": [
    "%matplotlib inline\n",
    "import matplotlib.pyplot as plt\n",
    "import pandas as pd\n",
    "import numpy as np\n",
    "from pymongo import MongoClient"
   ]
  },
  {
   "cell_type": "code",
   "execution_count": null,
   "id": "d4b32eff",
   "metadata": {},
   "outputs": [],
   "source": [
    "client = MongoClient('127.0.0.1',\n",
    "                     username=\"root\",\n",
    "                     password=\"rootpassword\")\n",
    "\n",
    "collection = client['performance'].get_collection(\"perf\")\n",
    "\n",
    "data = pd.DataFrame(list(collection.find()))\n",
    "data.head()"
   ]
  },
  {
   "cell_type": "code",
   "execution_count": null,
   "id": "ad9c44a2",
   "metadata": {},
   "outputs": [],
   "source": [
    "parse_dates = ['submit_time', 'start_time', 'end_time']\n",
    "for d in parse_dates:\n",
    "    data[d] = pd.to_datetime(data[d])\n",
    "\n",
    "convert_dtype = {'_id': \"string\",\n",
    "                 'compute_platform': \"string\",\n",
    "                 'requested_cpu': 'int8',\n",
    "                 'requested_mem': 'int8',\n",
    "                 'requested_disk': 'int8',\n",
    "                 'input_file_size': 'int64',\n",
    "                 'input_file_compression': 'bool',\n",
    "                 'input_file_time': 'float64',\n",
    "                 'pipeline': 'string',\n",
    "                 'output_file_size': 'int64',\n",
    "                 'output_file_compression': 'bool',\n",
    "                 'output_file_time': 'float64'}\n",
    "    \n",
    "for d, t in convert_dtype.items():\n",
    "    data[d] = data[d].astype(t)"
   ]
  },
  {
   "cell_type": "code",
   "execution_count": null,
   "id": "c8f4fc89",
   "metadata": {},
   "outputs": [],
   "source": [
    "dict(data.dtypes)"
   ]
  },
  {
   "cell_type": "code",
   "execution_count": null,
   "id": "a02f046e",
   "metadata": {},
   "outputs": [],
   "source": [
    "data.info(verbose=True, memory_usage='deep')"
   ]
  },
  {
   "cell_type": "code",
   "execution_count": null,
   "id": "aaf19f4e",
   "metadata": {},
   "outputs": [],
   "source": [
    "data.head()"
   ]
  },
  {
   "cell_type": "code",
   "execution_count": null,
   "id": "2e6c82f2",
   "metadata": {},
   "outputs": [],
   "source": [
    "platform = data.compute_platform.unique()\n",
    "plt.hist([data.loc[data.compute_platform == x, 'requested_cpu'] for x in platform], label=platform)\n",
    "plt.legend()"
   ]
  },
  {
   "cell_type": "code",
   "execution_count": null,
   "id": "e9faaf9c",
   "metadata": {},
   "outputs": [],
   "source": [
    "data['full_runtime'] = data.end_time - data.submit_time\n",
    "data['full_runtime'] = data['full_runtime'].apply(lambda x: x.value)"
   ]
  },
  {
   "cell_type": "code",
   "execution_count": null,
   "id": "85d24fb1",
   "metadata": {},
   "outputs": [],
   "source": [
    "plt.hist(data.full_runtime, bins=30)\n",
    "plt.show()"
   ]
  },
  {
   "cell_type": "code",
   "execution_count": null,
   "id": "5fbdc813",
   "metadata": {},
   "outputs": [],
   "source": [
    "platform = data.compute_platform.unique()\n",
    "plt.hist([data.loc[data.compute_platform == x, 'full_runtime'] for x in platform], label=platform, bins=20)\n",
    "plt.legend()"
   ]
  },
  {
   "cell_type": "code",
   "execution_count": null,
   "id": "828a9bcb",
   "metadata": {},
   "outputs": [],
   "source": []
  }
 ],
 "metadata": {
  "kernelspec": {
   "display_name": "Python 3",
   "language": "python",
   "name": "python3"
  },
  "language_info": {
   "codemirror_mode": {
    "name": "ipython",
    "version": 3
   },
   "file_extension": ".py",
   "mimetype": "text/x-python",
   "name": "python",
   "nbconvert_exporter": "python",
   "pygments_lexer": "ipython3",
   "version": "3.9.6"
  }
 },
 "nbformat": 4,
 "nbformat_minor": 5
}
