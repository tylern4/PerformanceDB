{
 "cells": [
  {
   "cell_type": "code",
   "execution_count": 2,
   "id": "0010dcb6",
   "metadata": {},
   "outputs": [],
   "source": [
    "%matplotlib inline\n",
    "import matplotlib.pyplot as plt\n",
    "import pandas as pd\n",
    "import numpy as np\n",
    "from pymongo import MongoClient"
   ]
  },
  {
   "cell_type": "code",
   "execution_count": null,
   "id": "d4b32eff",
   "metadata": {},
   "outputs": [],
   "source": [
    "client = MongoClient('127.0.0.1',\n",
    "                     username=\"root\",\n",
    "                     password=\"rootpassword\")\n",
    "\n",
    "collection = client['performance'].get_collection(\"perf\")\n",
    "\n",
    "data = pd.DataFrame(list(collection.find()))\n",
    "data.head()"
   ]
  },
  {
   "cell_type": "code",
   "execution_count": null,
   "id": "1d8a1715",
   "metadata": {},
   "outputs": [],
   "source": [
    "data.info(verbose=True, memory_usage='deep')"
   ]
  },
  {
   "cell_type": "code",
   "execution_count": null,
   "id": "8b77be34",
   "metadata": {},
   "outputs": [],
   "source": [
    "parse_dates = ['submit_time', 'start_time', 'end_time']\n",
    "for d in parse_dates:\n",
    "    data[d] = pd.to_datetime(data[d])\n",
    "\n",
    "convert_dtype = {'_id': \"string\",\n",
    "                 'compute_platform': \"string\",\n",
    "                 'requested_cpu': 'int8',\n",
    "                 'requested_mem': 'int8',\n",
    "                 'requested_disk': 'int8',\n",
    "                 'input_file_size': 'int32',\n",
    "                 'input_file_compression': 'bool',\n",
    "                 'input_file_time': 'float32',\n",
    "                 'pipeline': 'string',\n",
    "                 'output_file_size': 'int32',\n",
    "                 'output_file_compression': 'bool',\n",
    "                 'output_file_time': 'float32'}\n",
    "    \n",
    "for d, t in convert_dtype.items():\n",
    "    data[d] = data[d].astype(t)"
   ]
  },
  {
   "cell_type": "code",
   "execution_count": null,
   "id": "c8f4fc89",
   "metadata": {},
   "outputs": [],
   "source": [
    "dict(data.dtypes)"
   ]
  },
  {
   "cell_type": "code",
   "execution_count": null,
   "id": "a02f046e",
   "metadata": {},
   "outputs": [],
   "source": [
    "data.info(verbose=True, memory_usage='deep')"
   ]
  },
  {
   "cell_type": "code",
   "execution_count": null,
   "id": "aaf19f4e",
   "metadata": {},
   "outputs": [],
   "source": [
    "data.head()"
   ]
  },
  {
   "cell_type": "code",
   "execution_count": null,
   "id": "2e6c82f2",
   "metadata": {},
   "outputs": [],
   "source": [
    "platform = data.compute_platform.unique()\n",
    "plt.hist([data.loc[data.compute_platform == x, 'requested_cpu'] for x in platform], label=platform)\n",
    "plt.legend()"
   ]
  },
  {
   "cell_type": "code",
   "execution_count": null,
   "id": "e9faaf9c",
   "metadata": {},
   "outputs": [],
   "source": [
    "data['full_runtime'] = data.end_time - data.submit_time\n",
    "data['full_runtime'] = data['full_runtime'].apply(lambda x: x.value)"
   ]
  },
  {
   "cell_type": "code",
   "execution_count": null,
   "id": "85d24fb1",
   "metadata": {},
   "outputs": [],
   "source": [
    "plt.hist(data.full_runtime, bins=30)\n",
    "plt.show()"
   ]
  },
  {
   "cell_type": "code",
   "execution_count": null,
   "id": "08b635bc",
   "metadata": {},
   "outputs": [],
   "source": [
    "platform = data.compute_platform.unique()\n",
    "plt.hist([data.loc[data.compute_platform == x, 'full_runtime'] for x in platform], label=platform, bins=20)\n",
    "plt.legend()"
   ]
  },
  {
   "cell_type": "code",
   "execution_count": 3,
   "id": "8dd4f9d2",
   "metadata": {},
   "outputs": [
    {
     "data": {
      "text/html": [
       "<div>\n",
       "<style scoped>\n",
       "    .dataframe tbody tr th:only-of-type {\n",
       "        vertical-align: middle;\n",
       "    }\n",
       "\n",
       "    .dataframe tbody tr th {\n",
       "        vertical-align: top;\n",
       "    }\n",
       "\n",
       "    .dataframe thead th {\n",
       "        text-align: right;\n",
       "    }\n",
       "</style>\n",
       "<table border=\"1\" class=\"dataframe\">\n",
       "  <thead>\n",
       "    <tr style=\"text-align: right;\">\n",
       "      <th></th>\n",
       "      <th>_id</th>\n",
       "      <th>timestamp</th>\n",
       "      <th>level</th>\n",
       "      <th>thread</th>\n",
       "      <th>threadName</th>\n",
       "      <th>message</th>\n",
       "      <th>loggerName</th>\n",
       "      <th>fileName</th>\n",
       "      <th>module</th>\n",
       "      <th>method</th>\n",
       "      <th>lineNumber</th>\n",
       "    </tr>\n",
       "  </thead>\n",
       "  <tbody>\n",
       "    <tr>\n",
       "      <th>0</th>\n",
       "      <td>60ef2cfa989ccd1ce5fb204a</td>\n",
       "      <td>2021-07-14 18:29:14.302</td>\n",
       "      <td>MONGO</td>\n",
       "      <td>4306058560</td>\n",
       "      <td>MainThread</td>\n",
       "      <td>{'num': 0}</td>\n",
       "      <td>root</td>\n",
       "      <td>/Users/tylern/github/PerformanceDB/./FillMongo.py</td>\n",
       "      <td>FillMongo</td>\n",
       "      <td>&lt;module&gt;</td>\n",
       "      <td>170</td>\n",
       "    </tr>\n",
       "    <tr>\n",
       "      <th>1</th>\n",
       "      <td>60ef2cfa989ccd1ce5fb204b</td>\n",
       "      <td>2021-07-14 18:29:14.318</td>\n",
       "      <td>MONGO</td>\n",
       "      <td>4306058560</td>\n",
       "      <td>MainThread</td>\n",
       "      <td>{'num': 1}</td>\n",
       "      <td>root</td>\n",
       "      <td>/Users/tylern/github/PerformanceDB/./FillMongo.py</td>\n",
       "      <td>FillMongo</td>\n",
       "      <td>&lt;module&gt;</td>\n",
       "      <td>170</td>\n",
       "    </tr>\n",
       "    <tr>\n",
       "      <th>2</th>\n",
       "      <td>60ef2cfa989ccd1ce5fb204c</td>\n",
       "      <td>2021-07-14 18:29:14.320</td>\n",
       "      <td>MONGO</td>\n",
       "      <td>4306058560</td>\n",
       "      <td>MainThread</td>\n",
       "      <td>{'num': 2}</td>\n",
       "      <td>root</td>\n",
       "      <td>/Users/tylern/github/PerformanceDB/./FillMongo.py</td>\n",
       "      <td>FillMongo</td>\n",
       "      <td>&lt;module&gt;</td>\n",
       "      <td>170</td>\n",
       "    </tr>\n",
       "    <tr>\n",
       "      <th>3</th>\n",
       "      <td>60ef2cfa989ccd1ce5fb204d</td>\n",
       "      <td>2021-07-14 18:29:14.322</td>\n",
       "      <td>MONGO</td>\n",
       "      <td>4306058560</td>\n",
       "      <td>MainThread</td>\n",
       "      <td>{'num': 3}</td>\n",
       "      <td>root</td>\n",
       "      <td>/Users/tylern/github/PerformanceDB/./FillMongo.py</td>\n",
       "      <td>FillMongo</td>\n",
       "      <td>&lt;module&gt;</td>\n",
       "      <td>170</td>\n",
       "    </tr>\n",
       "    <tr>\n",
       "      <th>4</th>\n",
       "      <td>60ef2cfa989ccd1ce5fb204e</td>\n",
       "      <td>2021-07-14 18:29:14.324</td>\n",
       "      <td>MONGO</td>\n",
       "      <td>4306058560</td>\n",
       "      <td>MainThread</td>\n",
       "      <td>{'num': 4}</td>\n",
       "      <td>root</td>\n",
       "      <td>/Users/tylern/github/PerformanceDB/./FillMongo.py</td>\n",
       "      <td>FillMongo</td>\n",
       "      <td>&lt;module&gt;</td>\n",
       "      <td>170</td>\n",
       "    </tr>\n",
       "  </tbody>\n",
       "</table>\n",
       "</div>"
      ],
      "text/plain": [
       "                        _id               timestamp  level      thread  \\\n",
       "0  60ef2cfa989ccd1ce5fb204a 2021-07-14 18:29:14.302  MONGO  4306058560   \n",
       "1  60ef2cfa989ccd1ce5fb204b 2021-07-14 18:29:14.318  MONGO  4306058560   \n",
       "2  60ef2cfa989ccd1ce5fb204c 2021-07-14 18:29:14.320  MONGO  4306058560   \n",
       "3  60ef2cfa989ccd1ce5fb204d 2021-07-14 18:29:14.322  MONGO  4306058560   \n",
       "4  60ef2cfa989ccd1ce5fb204e 2021-07-14 18:29:14.324  MONGO  4306058560   \n",
       "\n",
       "   threadName     message loggerName  \\\n",
       "0  MainThread  {'num': 0}       root   \n",
       "1  MainThread  {'num': 1}       root   \n",
       "2  MainThread  {'num': 2}       root   \n",
       "3  MainThread  {'num': 3}       root   \n",
       "4  MainThread  {'num': 4}       root   \n",
       "\n",
       "                                            fileName     module    method  \\\n",
       "0  /Users/tylern/github/PerformanceDB/./FillMongo.py  FillMongo  <module>   \n",
       "1  /Users/tylern/github/PerformanceDB/./FillMongo.py  FillMongo  <module>   \n",
       "2  /Users/tylern/github/PerformanceDB/./FillMongo.py  FillMongo  <module>   \n",
       "3  /Users/tylern/github/PerformanceDB/./FillMongo.py  FillMongo  <module>   \n",
       "4  /Users/tylern/github/PerformanceDB/./FillMongo.py  FillMongo  <module>   \n",
       "\n",
       "   lineNumber  \n",
       "0         170  \n",
       "1         170  \n",
       "2         170  \n",
       "3         170  \n",
       "4         170  "
      ]
     },
     "execution_count": 3,
     "metadata": {},
     "output_type": "execute_result"
    }
   ],
   "source": [
    "client = MongoClient('127.0.0.1',\n",
    "                     username=\"root\",\n",
    "                     password=\"rootpassword\")\n",
    "\n",
    "collection = client['logs'].get_collection(\"logs\")\n",
    "\n",
    "data = pd.DataFrame(list(collection.find()))\n",
    "data.head()"
   ]
  },
  {
   "cell_type": "code",
   "execution_count": null,
   "id": "22b038c9",
   "metadata": {},
   "outputs": [],
   "source": []
  }
 ],
 "metadata": {
  "kernelspec": {
   "display_name": "Python 3",
   "language": "python",
   "name": "python3"
  },
  "language_info": {
   "codemirror_mode": {
    "name": "ipython",
    "version": 3
   },
   "file_extension": ".py",
   "mimetype": "text/x-python",
   "name": "python",
   "nbconvert_exporter": "python",
   "pygments_lexer": "ipython3",
   "version": "3.9.6"
  }
 },
 "nbformat": 4,
 "nbformat_minor": 5
}
