{
 "cells": [
  {
   "cell_type": "code",
   "execution_count": 1,
   "id": "0010dcb6",
   "metadata": {},
   "outputs": [],
   "source": [
    "%matplotlib inline\n",
    "import matplotlib.pyplot as plt\n",
    "import pandas as pd\n",
    "import numpy as np\n",
    "from pymongo import MongoClient"
   ]
  },
  {
   "cell_type": "code",
   "execution_count": 2,
   "id": "d4b32eff",
   "metadata": {},
   "outputs": [
    {
     "data": {
      "text/html": [
       "<div>\n",
       "<style scoped>\n",
       "    .dataframe tbody tr th:only-of-type {\n",
       "        vertical-align: middle;\n",
       "    }\n",
       "\n",
       "    .dataframe tbody tr th {\n",
       "        vertical-align: top;\n",
       "    }\n",
       "\n",
       "    .dataframe thead th {\n",
       "        text-align: right;\n",
       "    }\n",
       "</style>\n",
       "<table border=\"1\" class=\"dataframe\">\n",
       "  <thead>\n",
       "    <tr style=\"text-align: right;\">\n",
       "      <th></th>\n",
       "      <th>_id</th>\n",
       "      <th>submit_time</th>\n",
       "      <th>compute_platform</th>\n",
       "      <th>requested_cpu</th>\n",
       "      <th>requested_mem</th>\n",
       "      <th>requested_disk</th>\n",
       "      <th>input_file_size</th>\n",
       "      <th>input_file_compression</th>\n",
       "      <th>input_file_time</th>\n",
       "      <th>pipeline</th>\n",
       "      <th>start_time</th>\n",
       "      <th>output_file_size</th>\n",
       "      <th>output_file_compression</th>\n",
       "      <th>output_file_time</th>\n",
       "      <th>end_time</th>\n",
       "      <th>event</th>\n",
       "    </tr>\n",
       "  </thead>\n",
       "  <tbody>\n",
       "    <tr>\n",
       "      <th>0</th>\n",
       "      <td>60edbdaf068d648d62afe2ee</td>\n",
       "      <td>07-13-2021 12:22:07.646559</td>\n",
       "      <td>aws</td>\n",
       "      <td>21</td>\n",
       "      <td>6</td>\n",
       "      <td>5</td>\n",
       "      <td>0</td>\n",
       "      <td>False</td>\n",
       "      <td>7440.0</td>\n",
       "      <td>pipeline_3</td>\n",
       "      <td>07-13-2021 14:26:07.646559</td>\n",
       "      <td>60.0</td>\n",
       "      <td>True</td>\n",
       "      <td>7320.0</td>\n",
       "      <td>07-13-2021 16:33:07.646559</td>\n",
       "      <td>0</td>\n",
       "    </tr>\n",
       "    <tr>\n",
       "      <th>1</th>\n",
       "      <td>60edbdaf068d648d62afe2ef</td>\n",
       "      <td>07-13-2021 12:22:07.774893</td>\n",
       "      <td>jgi</td>\n",
       "      <td>16</td>\n",
       "      <td>6</td>\n",
       "      <td>4</td>\n",
       "      <td>2</td>\n",
       "      <td>True</td>\n",
       "      <td>7020.0</td>\n",
       "      <td>pipeline_4</td>\n",
       "      <td>07-13-2021 14:20:07.774893</td>\n",
       "      <td>0.0</td>\n",
       "      <td>False</td>\n",
       "      <td>6540.0</td>\n",
       "      <td>07-13-2021 16:13:07.774893</td>\n",
       "      <td>1</td>\n",
       "    </tr>\n",
       "    <tr>\n",
       "      <th>2</th>\n",
       "      <td>60edbdaf068d648d62afe2f0</td>\n",
       "      <td>07-13-2021 12:22:07.776394</td>\n",
       "      <td>pnnl</td>\n",
       "      <td>26</td>\n",
       "      <td>5</td>\n",
       "      <td>4</td>\n",
       "      <td>1</td>\n",
       "      <td>True</td>\n",
       "      <td>6720.0</td>\n",
       "      <td>pipeline_3</td>\n",
       "      <td>07-13-2021 14:24:07.776394</td>\n",
       "      <td>60.0</td>\n",
       "      <td>False</td>\n",
       "      <td>7560.0</td>\n",
       "      <td>07-13-2021 16:08:07.776394</td>\n",
       "      <td>2</td>\n",
       "    </tr>\n",
       "    <tr>\n",
       "      <th>3</th>\n",
       "      <td>60edbdaf068d648d62afe2f1</td>\n",
       "      <td>07-13-2021 12:22:07.778042</td>\n",
       "      <td>pnnl</td>\n",
       "      <td>31</td>\n",
       "      <td>10</td>\n",
       "      <td>4</td>\n",
       "      <td>0</td>\n",
       "      <td>True</td>\n",
       "      <td>6960.0</td>\n",
       "      <td>pipeline_3</td>\n",
       "      <td>07-13-2021 14:22:07.778042</td>\n",
       "      <td>60.0</td>\n",
       "      <td>True</td>\n",
       "      <td>7140.0</td>\n",
       "      <td>07-13-2021 16:11:07.778042</td>\n",
       "      <td>3</td>\n",
       "    </tr>\n",
       "    <tr>\n",
       "      <th>4</th>\n",
       "      <td>60edbdaf068d648d62afe2f2</td>\n",
       "      <td>07-13-2021 12:22:07.780290</td>\n",
       "      <td>aws</td>\n",
       "      <td>26</td>\n",
       "      <td>6</td>\n",
       "      <td>3</td>\n",
       "      <td>2</td>\n",
       "      <td>False</td>\n",
       "      <td>7920.0</td>\n",
       "      <td>pipeline_2</td>\n",
       "      <td>07-13-2021 14:27:07.780290</td>\n",
       "      <td>60.0</td>\n",
       "      <td>False</td>\n",
       "      <td>7080.0</td>\n",
       "      <td>07-13-2021 16:20:07.780290</td>\n",
       "      <td>4</td>\n",
       "    </tr>\n",
       "  </tbody>\n",
       "</table>\n",
       "</div>"
      ],
      "text/plain": [
       "                        _id                 submit_time compute_platform  \\\n",
       "0  60edbdaf068d648d62afe2ee  07-13-2021 12:22:07.646559              aws   \n",
       "1  60edbdaf068d648d62afe2ef  07-13-2021 12:22:07.774893              jgi   \n",
       "2  60edbdaf068d648d62afe2f0  07-13-2021 12:22:07.776394             pnnl   \n",
       "3  60edbdaf068d648d62afe2f1  07-13-2021 12:22:07.778042             pnnl   \n",
       "4  60edbdaf068d648d62afe2f2  07-13-2021 12:22:07.780290              aws   \n",
       "\n",
       "   requested_cpu  requested_mem  requested_disk  input_file_size  \\\n",
       "0             21              6               5                0   \n",
       "1             16              6               4                2   \n",
       "2             26              5               4                1   \n",
       "3             31             10               4                0   \n",
       "4             26              6               3                2   \n",
       "\n",
       "   input_file_compression  input_file_time    pipeline  \\\n",
       "0                   False           7440.0  pipeline_3   \n",
       "1                    True           7020.0  pipeline_4   \n",
       "2                    True           6720.0  pipeline_3   \n",
       "3                    True           6960.0  pipeline_3   \n",
       "4                   False           7920.0  pipeline_2   \n",
       "\n",
       "                   start_time  output_file_size  output_file_compression  \\\n",
       "0  07-13-2021 14:26:07.646559              60.0                     True   \n",
       "1  07-13-2021 14:20:07.774893               0.0                    False   \n",
       "2  07-13-2021 14:24:07.776394              60.0                    False   \n",
       "3  07-13-2021 14:22:07.778042              60.0                     True   \n",
       "4  07-13-2021 14:27:07.780290              60.0                    False   \n",
       "\n",
       "   output_file_time                    end_time  event  \n",
       "0            7320.0  07-13-2021 16:33:07.646559      0  \n",
       "1            6540.0  07-13-2021 16:13:07.774893      1  \n",
       "2            7560.0  07-13-2021 16:08:07.776394      2  \n",
       "3            7140.0  07-13-2021 16:11:07.778042      3  \n",
       "4            7080.0  07-13-2021 16:20:07.780290      4  "
      ]
     },
     "execution_count": 2,
     "metadata": {},
     "output_type": "execute_result"
    }
   ],
   "source": [
    "client = MongoClient('127.0.0.1',\n",
    "                     username=\"root\",\n",
    "                     password=\"rootpassword\")\n",
    "\n",
    "collection = client['performance'].get_collection(\"perf\")\n",
    "\n",
    "data = pd.DataFrame(list(collection.find()))\n",
    "data.head()"
   ]
  },
  {
   "cell_type": "code",
   "execution_count": 3,
   "id": "9790c823",
   "metadata": {},
   "outputs": [
    {
     "name": "stdout",
     "output_type": "stream",
     "text": [
      "<class 'pandas.core.frame.DataFrame'>\n",
      "RangeIndex: 200 entries, 0 to 199\n",
      "Data columns (total 16 columns):\n",
      " #   Column                   Non-Null Count  Dtype  \n",
      "---  ------                   --------------  -----  \n",
      " 0   _id                      200 non-null    object \n",
      " 1   submit_time              200 non-null    object \n",
      " 2   compute_platform         200 non-null    object \n",
      " 3   requested_cpu            200 non-null    int64  \n",
      " 4   requested_mem            200 non-null    int64  \n",
      " 5   requested_disk           200 non-null    int64  \n",
      " 6   input_file_size          200 non-null    int64  \n",
      " 7   input_file_compression   200 non-null    bool   \n",
      " 8   input_file_time          200 non-null    float64\n",
      " 9   pipeline                 200 non-null    object \n",
      " 10  start_time               200 non-null    object \n",
      " 11  output_file_size         200 non-null    float64\n",
      " 12  output_file_compression  200 non-null    bool   \n",
      " 13  output_file_time         200 non-null    float64\n",
      " 14  end_time                 200 non-null    object \n",
      " 15  event                    200 non-null    int64  \n",
      "dtypes: bool(2), float64(3), int64(5), object(6)\n",
      "memory usage: 92.8 KB\n"
     ]
    }
   ],
   "source": [
    "data.info(verbose=True, memory_usage='deep')"
   ]
  },
  {
   "cell_type": "code",
   "execution_count": 4,
   "id": "8b77be34",
   "metadata": {},
   "outputs": [],
   "source": [
    "parse_dates = ['submit_time', 'start_time', 'end_time']\n",
    "for d in parse_dates:\n",
    "    data[d] = pd.to_datetime(data[d])\n",
    "\n",
    "convert_dtype = {'_id': \"string\",\n",
    "                 'compute_platform': \"string\",\n",
    "                 'requested_cpu': 'int8',\n",
    "                 'requested_mem': 'int8',\n",
    "                 'requested_disk': 'int8',\n",
    "                 'input_file_size': 'int32',\n",
    "                 'input_file_compression': 'bool',\n",
    "                 'input_file_time': 'float32',\n",
    "                 'pipeline': 'string',\n",
    "                 'output_file_size': 'int32',\n",
    "                 'output_file_compression': 'bool',\n",
    "                 'output_file_time': 'float32'}\n",
    "    \n",
    "for d, t in convert_dtype.items():\n",
    "    data[d] = data[d].astype(t)"
   ]
  },
  {
   "cell_type": "code",
   "execution_count": 5,
   "id": "c8f4fc89",
   "metadata": {},
   "outputs": [
    {
     "data": {
      "text/plain": [
       "{'_id': StringDtype,\n",
       " 'submit_time': dtype('<M8[ns]'),\n",
       " 'compute_platform': StringDtype,\n",
       " 'requested_cpu': dtype('int8'),\n",
       " 'requested_mem': dtype('int8'),\n",
       " 'requested_disk': dtype('int8'),\n",
       " 'input_file_size': dtype('int32'),\n",
       " 'input_file_compression': dtype('bool'),\n",
       " 'input_file_time': dtype('float32'),\n",
       " 'pipeline': StringDtype,\n",
       " 'start_time': dtype('<M8[ns]'),\n",
       " 'output_file_size': dtype('int32'),\n",
       " 'output_file_compression': dtype('bool'),\n",
       " 'output_file_time': dtype('float32'),\n",
       " 'end_time': dtype('<M8[ns]'),\n",
       " 'event': dtype('int64')}"
      ]
     },
     "execution_count": 5,
     "metadata": {},
     "output_type": "execute_result"
    }
   ],
   "source": [
    "dict(data.dtypes)"
   ]
  },
  {
   "cell_type": "code",
   "execution_count": 6,
   "id": "a02f046e",
   "metadata": {},
   "outputs": [
    {
     "name": "stdout",
     "output_type": "stream",
     "text": [
      "<class 'pandas.core.frame.DataFrame'>\n",
      "RangeIndex: 200 entries, 0 to 199\n",
      "Data columns (total 16 columns):\n",
      " #   Column                   Non-Null Count  Dtype         \n",
      "---  ------                   --------------  -----         \n",
      " 0   _id                      200 non-null    string        \n",
      " 1   submit_time              200 non-null    datetime64[ns]\n",
      " 2   compute_platform         200 non-null    string        \n",
      " 3   requested_cpu            200 non-null    int8          \n",
      " 4   requested_mem            200 non-null    int8          \n",
      " 5   requested_disk           200 non-null    int8          \n",
      " 6   input_file_size          200 non-null    int32         \n",
      " 7   input_file_compression   200 non-null    bool          \n",
      " 8   input_file_time          200 non-null    float32       \n",
      " 9   pipeline                 200 non-null    string        \n",
      " 10  start_time               200 non-null    datetime64[ns]\n",
      " 11  output_file_size         200 non-null    int32         \n",
      " 12  output_file_compression  200 non-null    bool          \n",
      " 13  output_file_time         200 non-null    float32       \n",
      " 14  end_time                 200 non-null    datetime64[ns]\n",
      " 15  event                    200 non-null    int64         \n",
      "dtypes: bool(2), datetime64[ns](3), float32(2), int32(2), int64(1), int8(3), string(3)\n",
      "memory usage: 51.2 KB\n"
     ]
    }
   ],
   "source": [
    "data.info(verbose=True, memory_usage='deep')"
   ]
  },
  {
   "cell_type": "code",
   "execution_count": 7,
   "id": "aaf19f4e",
   "metadata": {},
   "outputs": [
    {
     "data": {
      "text/html": [
       "<div>\n",
       "<style scoped>\n",
       "    .dataframe tbody tr th:only-of-type {\n",
       "        vertical-align: middle;\n",
       "    }\n",
       "\n",
       "    .dataframe tbody tr th {\n",
       "        vertical-align: top;\n",
       "    }\n",
       "\n",
       "    .dataframe thead th {\n",
       "        text-align: right;\n",
       "    }\n",
       "</style>\n",
       "<table border=\"1\" class=\"dataframe\">\n",
       "  <thead>\n",
       "    <tr style=\"text-align: right;\">\n",
       "      <th></th>\n",
       "      <th>_id</th>\n",
       "      <th>submit_time</th>\n",
       "      <th>compute_platform</th>\n",
       "      <th>requested_cpu</th>\n",
       "      <th>requested_mem</th>\n",
       "      <th>requested_disk</th>\n",
       "      <th>input_file_size</th>\n",
       "      <th>input_file_compression</th>\n",
       "      <th>input_file_time</th>\n",
       "      <th>pipeline</th>\n",
       "      <th>start_time</th>\n",
       "      <th>output_file_size</th>\n",
       "      <th>output_file_compression</th>\n",
       "      <th>output_file_time</th>\n",
       "      <th>end_time</th>\n",
       "      <th>event</th>\n",
       "    </tr>\n",
       "  </thead>\n",
       "  <tbody>\n",
       "    <tr>\n",
       "      <th>0</th>\n",
       "      <td>60edbdaf068d648d62afe2ee</td>\n",
       "      <td>2021-07-13 12:22:07.646559</td>\n",
       "      <td>aws</td>\n",
       "      <td>21</td>\n",
       "      <td>6</td>\n",
       "      <td>5</td>\n",
       "      <td>0</td>\n",
       "      <td>False</td>\n",
       "      <td>7440.0</td>\n",
       "      <td>pipeline_3</td>\n",
       "      <td>2021-07-13 14:26:07.646559</td>\n",
       "      <td>60</td>\n",
       "      <td>True</td>\n",
       "      <td>7320.0</td>\n",
       "      <td>2021-07-13 16:33:07.646559</td>\n",
       "      <td>0</td>\n",
       "    </tr>\n",
       "    <tr>\n",
       "      <th>1</th>\n",
       "      <td>60edbdaf068d648d62afe2ef</td>\n",
       "      <td>2021-07-13 12:22:07.774893</td>\n",
       "      <td>jgi</td>\n",
       "      <td>16</td>\n",
       "      <td>6</td>\n",
       "      <td>4</td>\n",
       "      <td>2</td>\n",
       "      <td>True</td>\n",
       "      <td>7020.0</td>\n",
       "      <td>pipeline_4</td>\n",
       "      <td>2021-07-13 14:20:07.774893</td>\n",
       "      <td>0</td>\n",
       "      <td>False</td>\n",
       "      <td>6540.0</td>\n",
       "      <td>2021-07-13 16:13:07.774893</td>\n",
       "      <td>1</td>\n",
       "    </tr>\n",
       "    <tr>\n",
       "      <th>2</th>\n",
       "      <td>60edbdaf068d648d62afe2f0</td>\n",
       "      <td>2021-07-13 12:22:07.776394</td>\n",
       "      <td>pnnl</td>\n",
       "      <td>26</td>\n",
       "      <td>5</td>\n",
       "      <td>4</td>\n",
       "      <td>1</td>\n",
       "      <td>True</td>\n",
       "      <td>6720.0</td>\n",
       "      <td>pipeline_3</td>\n",
       "      <td>2021-07-13 14:24:07.776394</td>\n",
       "      <td>60</td>\n",
       "      <td>False</td>\n",
       "      <td>7560.0</td>\n",
       "      <td>2021-07-13 16:08:07.776394</td>\n",
       "      <td>2</td>\n",
       "    </tr>\n",
       "    <tr>\n",
       "      <th>3</th>\n",
       "      <td>60edbdaf068d648d62afe2f1</td>\n",
       "      <td>2021-07-13 12:22:07.778042</td>\n",
       "      <td>pnnl</td>\n",
       "      <td>31</td>\n",
       "      <td>10</td>\n",
       "      <td>4</td>\n",
       "      <td>0</td>\n",
       "      <td>True</td>\n",
       "      <td>6960.0</td>\n",
       "      <td>pipeline_3</td>\n",
       "      <td>2021-07-13 14:22:07.778042</td>\n",
       "      <td>60</td>\n",
       "      <td>True</td>\n",
       "      <td>7140.0</td>\n",
       "      <td>2021-07-13 16:11:07.778042</td>\n",
       "      <td>3</td>\n",
       "    </tr>\n",
       "    <tr>\n",
       "      <th>4</th>\n",
       "      <td>60edbdaf068d648d62afe2f2</td>\n",
       "      <td>2021-07-13 12:22:07.780290</td>\n",
       "      <td>aws</td>\n",
       "      <td>26</td>\n",
       "      <td>6</td>\n",
       "      <td>3</td>\n",
       "      <td>2</td>\n",
       "      <td>False</td>\n",
       "      <td>7920.0</td>\n",
       "      <td>pipeline_2</td>\n",
       "      <td>2021-07-13 14:27:07.780290</td>\n",
       "      <td>60</td>\n",
       "      <td>False</td>\n",
       "      <td>7080.0</td>\n",
       "      <td>2021-07-13 16:20:07.780290</td>\n",
       "      <td>4</td>\n",
       "    </tr>\n",
       "  </tbody>\n",
       "</table>\n",
       "</div>"
      ],
      "text/plain": [
       "                        _id                submit_time compute_platform  \\\n",
       "0  60edbdaf068d648d62afe2ee 2021-07-13 12:22:07.646559              aws   \n",
       "1  60edbdaf068d648d62afe2ef 2021-07-13 12:22:07.774893              jgi   \n",
       "2  60edbdaf068d648d62afe2f0 2021-07-13 12:22:07.776394             pnnl   \n",
       "3  60edbdaf068d648d62afe2f1 2021-07-13 12:22:07.778042             pnnl   \n",
       "4  60edbdaf068d648d62afe2f2 2021-07-13 12:22:07.780290              aws   \n",
       "\n",
       "   requested_cpu  requested_mem  requested_disk  input_file_size  \\\n",
       "0             21              6               5                0   \n",
       "1             16              6               4                2   \n",
       "2             26              5               4                1   \n",
       "3             31             10               4                0   \n",
       "4             26              6               3                2   \n",
       "\n",
       "   input_file_compression  input_file_time    pipeline  \\\n",
       "0                   False           7440.0  pipeline_3   \n",
       "1                    True           7020.0  pipeline_4   \n",
       "2                    True           6720.0  pipeline_3   \n",
       "3                    True           6960.0  pipeline_3   \n",
       "4                   False           7920.0  pipeline_2   \n",
       "\n",
       "                  start_time  output_file_size  output_file_compression  \\\n",
       "0 2021-07-13 14:26:07.646559                60                     True   \n",
       "1 2021-07-13 14:20:07.774893                 0                    False   \n",
       "2 2021-07-13 14:24:07.776394                60                    False   \n",
       "3 2021-07-13 14:22:07.778042                60                     True   \n",
       "4 2021-07-13 14:27:07.780290                60                    False   \n",
       "\n",
       "   output_file_time                   end_time  event  \n",
       "0            7320.0 2021-07-13 16:33:07.646559      0  \n",
       "1            6540.0 2021-07-13 16:13:07.774893      1  \n",
       "2            7560.0 2021-07-13 16:08:07.776394      2  \n",
       "3            7140.0 2021-07-13 16:11:07.778042      3  \n",
       "4            7080.0 2021-07-13 16:20:07.780290      4  "
      ]
     },
     "execution_count": 7,
     "metadata": {},
     "output_type": "execute_result"
    }
   ],
   "source": [
    "data.head()"
   ]
  },
  {
   "cell_type": "code",
   "execution_count": 8,
   "id": "2e6c82f2",
   "metadata": {},
   "outputs": [
    {
     "data": {
      "text/plain": [
       "<matplotlib.legend.Legend at 0x11fb9f550>"
      ]
     },
     "execution_count": 8,
     "metadata": {},
     "output_type": "execute_result"
    },
    {
     "data": {
      "image/png": "[encoded data removed]",
      "text/plain": [
       "<Figure size 432x288 with 1 Axes>"
      ]
     },
     "metadata": {
      "needs_background": "light"
     },
     "output_type": "display_data"
    }
   ],
   "source": [
    "platform = data.compute_platform.unique()\n",
    "plt.hist([data.loc[data.compute_platform == x, 'requested_cpu'] for x in platform], label=platform)\n",
    "plt.legend()"
   ]
  },
  {
   "cell_type": "code",
   "execution_count": 9,
   "id": "e9faaf9c",
   "metadata": {},
   "outputs": [],
   "source": [
    "data['full_runtime'] = data.end_time - data.submit_time\n",
    "data['full_runtime'] = data['full_runtime'].apply(lambda x: x.value)"
   ]
  },
  {
   "cell_type": "code",
   "execution_count": 10,
   "id": "85d24fb1",
   "metadata": {},
   "outputs": [
    {
     "data": {
      "image/png": "[encoded data removed]",
      "text/plain": [
       "<Figure size 432x288 with 1 Axes>"
      ]
     },
     "metadata": {
      "needs_background": "light"
     },
     "output_type": "display_data"
    }
   ],
   "source": [
    "plt.hist(data.full_runtime, bins=30)\n",
    "plt.show()"
   ]
  },
  {
   "cell_type": "code",
   "execution_count": 11,
   "id": "08b635bc",
   "metadata": {},
   "outputs": [
    {
     "data": {
      "text/plain": [
       "<matplotlib.legend.Legend at 0x11fb9fb50>"
      ]
     },
     "execution_count": 11,
     "metadata": {},
     "output_type": "execute_result"
    },
    {
     "data": {
      "image/png": "[encoded data removed]",
      "text/plain": [
       "<Figure size 432x288 with 1 Axes>"
      ]
     },
     "metadata": {
      "needs_background": "light"
     },
     "output_type": "display_data"
    }
   ],
   "source": [
    "platform = data.compute_platform.unique()\n",
    "plt.hist([data.loc[data.compute_platform == x, 'full_runtime'] for x in platform], label=platform, bins=20)\n",
    "plt.legend()"
   ]
  },
  {
   "cell_type": "code",
   "execution_count": null,
   "id": "8dd4f9d2",
   "metadata": {},
   "outputs": [],
   "source": []
  }
 ],
 "metadata": {
  "kernelspec": {
   "display_name": "Python 3",
   "language": "python",
   "name": "python3"
  },
  "language_info": {
   "codemirror_mode": {
    "name": "ipython",
    "version": 3
   },
   "file_extension": ".py",
   "mimetype": "text/x-python",
   "name": "python",
   "nbconvert_exporter": "python",
   "pygments_lexer": "ipython3",
   "version": "3.9.6"
  }
 },
 "nbformat": 4,
 "nbformat_minor": 5
}
